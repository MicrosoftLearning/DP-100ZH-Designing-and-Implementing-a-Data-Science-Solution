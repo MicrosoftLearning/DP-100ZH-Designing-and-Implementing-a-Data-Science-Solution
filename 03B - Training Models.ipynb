﻿{
  "cells": [
    {
      "cell_type": "markdown",
      "metadata": {},
      "source": [
        "# 训练模型\r\n",
        "\r\n",
        "机器学习的主要目标在于训练可用于应用程序的预测模型。在 Azure 机器学习中，可以借助脚本来利用常见机器学习框架（例如 Scikit-Learn、Tensorflow、PyTorch、SparkML 等）训练模型。可以将这些训练脚本作为试验运行，以跟踪指标和输出 - 特别是训练后模型。\r\n",
        "\r\n",
        "## 连接到工作区\r\n",
        "\r\n",
        "你首先需要使用 Azure ML SDK 连接到工作区。\r\n",
        "\r\n",
        "> **注意**：如果 Azure 订阅的身份验证会话在你完成上一练习后已过期，系统将提示你重新进行身份验证。"
      ]
    },
    {
      "cell_type": "code",
      "execution_count": null,
      "metadata": {},
      "outputs": [],
      "source": [
        "import azureml.core\n",
        "from azureml.core import Workspace\n",
        "\n",
        "# 从保存的配置文件加载工作区\r\n",
        "ws = Workspace.from_config()\n",
        "print('Ready to use Azure ML {} to work with {}'.format(azureml.core.VERSION, ws.name))"
      ]
    },
    {
      "cell_type": "markdown",
      "metadata": {},
      "source": [
        "## 创建训练脚本\r\n",
        "\r\n",
        "你将要使用 Python 脚本基于糖尿病数据训练机器学习模型，因此接下来先为脚本和数据文件创建文件夹。"
      ]
    },
    {
      "cell_type": "code",
      "execution_count": null,
      "metadata": {},
      "outputs": [],
      "source": [
        "import os, shutil\n",
        "\n",
        "# 为试验文件创建文件夹\r\n",
        "training_folder = 'diabetes-training'\n",
        "os.makedirs(training_folder, exist_ok=True)\n",
        "\n",
        "# 将数据文件复制到试验文件夹\r\n",
        "shutil.copy('data/diabetes.csv', os.path.join(training_folder, \"diabetes.csv\"))"
      ]
    },
    {
      "cell_type": "markdown",
      "metadata": {},
      "source": [
        "现在即可创建训练脚本并将其保存到文件夹。"
      ]
    },
    {
      "cell_type": "code",
      "execution_count": null,
      "metadata": {},
      "outputs": [],
      "source": [
        "%%writefile $training_folder/diabetes_training.py\n",
        "# 导入库\r\n",
        "from azureml.core import Run\n",
        "import pandas as pd\n",
        "import numpy as np\n",
        "import joblib\n",
        "import os\n",
        "from sklearn.model_selection import train_test_split\n",
        "from sklearn.linear_model import LogisticRegression\n",
        "from sklearn.metrics import roc_auc_score\n",
        "from sklearn.metrics import roc_curve\n",
        "\n",
        "# 获取试验运行上下文\r\n",
        "run = Run.get_context()\n",
        "\n",
        "# 加载糖尿病数据集\r\n",
        "print(\"Loading Data...\")\n",
        "diabetes = pd.read_csv('diabetes.csv')\n",
        "\n",
        "# 分隔特征和标签\r\n",
        "X, y = diabetes[['Pregnancies','PlasmaGlucose','DiastolicBloodPressure','TricepsThickness','SerumInsulin','BMI','DiabetesPedigree','Age']].values, diabetes['Diabetic'].values\n",
        "\n",
        "# 将数据拆分为训练集和测试集\r\n",
        "X_train, X_test, y_train, y_test = train_test_split(X, y, test_size=0.30, random_state=0)\n",
        "\n",
        "# 设置正则化超参数\r\n",
        "reg = 0.01\n",
        "\n",
        "# 训练逻辑回归模型\r\n",
        "print('Training a logistic regression model with regularization rate of', reg)\n",
        "run.log('Regularization Rate',  np.float(reg))\n",
        "model = LogisticRegression(C=1/reg, solver=\"liblinear\").fit(X_train, y_train)\n",
        "\n",
        "# 计算精度\r\n",
        "y_hat = model.predict(X_test)\n",
        "acc = np.average(y_hat == y_test)\n",
        "print('Accuracy:', acc)\n",
        "run.log('Accuracy', np.float(acc))\n",
        "\n",
        "# 计算 AUC\r\n",
        "y_scores = model.predict_proba(X_test)\n",
        "auc = roc_auc_score(y_test,y_scores[:,1])\n",
        "print('AUC: ' + str(auc))\n",
        "run.log('AUC', np.float(auc))\n",
        "\n",
        "# 将训练后模型保存到输出文件夹\r\n",
        "os.makedirs('outputs', exist_ok=True)\n",
        "joblib.dump(value=model, filename='outputs/diabetes_model.pkl')\n",
        "\n",
        "run.complete()"
      ]
    },
    {
      "cell_type": "markdown",
      "metadata": {},
      "source": [
        "## 使用估算器将脚本作为试验运行\r\n",
        "\r\n",
        "以前运行试验脚本使用的是 **RunConfiguration** 和 **ScriptRunConfig**。现在也可以使用相同方法运行训练脚本，但使用**估算器**通常会更容易，因为它可以将这两个配置都抽象到一个对象中。\r\n",
        "\r\n",
        "这种情况下，我们将使用通用的**“估算器”**对象来运行训练试验。请注意，此估算器的默认环境不包含 **scikit-learn** 包，因此需要将其显式添加到配置中。Conda 环境是首次使用估算器时按需构建的，缓存后用于采用相同配置的后续运行。因此，首次运行耗时较长。"
      ]
    },
    {
      "cell_type": "code",
      "execution_count": null,
      "metadata": {},
      "outputs": [],
      "source": [
        "from azureml.train.estimator import Estimator\n",
        "from azureml.core import Experiment\n",
        "\n",
        "# 创建估算器\r\n",
        "estimator = Estimator(source_directory=training_folder,\n",
        "                      entry_script='diabetes_training.py',\n",
        "                      compute_target='local',\n",
        "                      conda_packages=['scikit-learn']\n",
        "                      )\n",
        "\n",
        "# 创建试验\r\n",
        "experiment_name = 'diabetes-training'\n",
        "experiment = Experiment(workspace = ws, name = experiment_name)\n",
        "\n",
        "# 基于估算器运行试验\r\n",
        "run = experiment.submit(config=estimator)\n",
        "run.wait_for_completion(show_output=True)"
      ]
    },
    {
      "cell_type": "markdown",
      "metadata": {},
      "source": [
        "与所有试验运行一样，可以使用**“运行详细信息”**小组件查看有关运行的信息，并在 Azure 机器学习工作室中获取指向该运行的链接。"
      ]
    },
    {
      "cell_type": "code",
      "execution_count": null,
      "metadata": {},
      "outputs": [],
      "source": [
        "from azureml.widgets import RunDetails\n",
        "\n",
        "RunDetails(run).show()"
      ]
    },
    {
      "cell_type": "markdown",
      "metadata": {},
      "source": [
        "你还可以从 **Run** 对象检索指标和输出。"
      ]
    },
    {
      "cell_type": "code",
      "execution_count": null,
      "metadata": {},
      "outputs": [],
      "source": [
        "# 获取记录的指标\r\n",
        "metrics = run.get_metrics()\n",
        "for key in metrics.keys():\n",
        "        print(key, metrics.get(key))\n",
        "print('\\n')\n",
        "for file in run.get_file_names():\n",
        "    print(file)"
      ]
    },
    {
      "cell_type": "markdown",
      "metadata": {},
      "source": [
        "## 注册训练后模型\r\n",
        "\r\n",
        "请注意，试验输出包括训练后模型文件 (**diabetes_model.pkl**)。可以在 Azure 机器学习工作区中注册此模型，这样即可跟踪模型版本并在以后检索它们。"
      ]
    },
    {
      "cell_type": "code",
      "execution_count": null,
      "metadata": {},
      "outputs": [],
      "source": [
        "from azureml.core import Model\n",
        "\n",
        "# 注册模型\r\n",
        "run.register_model(model_path='outputs/diabetes_model.pkl', model_name='diabetes_model',\n",
        "                   tags={'Training context':'Estimator'},\n",
        "                   properties={'AUC': run.get_metrics()['AUC'], 'Accuracy': run.get_metrics()['Accuracy']})\n",
        "\n",
        "# 列出已注册的模型\r\n",
        "for model in Model.list(ws):\n",
        "    print(model.name, 'version:', model.version)\n",
        "    for tag_name in model.tags:\n",
        "        tag = model.tags[tag_name]\n",
        "        print ('\\t',tag_name, ':', tag)\n",
        "    for prop_name in model.properties:\n",
        "        prop = model.properties[prop_name]\n",
        "        print ('\\t',prop_name, ':', prop)\n",
        "    print('\\n')"
      ]
    },
    {
      "cell_type": "markdown",
      "metadata": {},
      "source": [
        "## 创建参数化的训练脚本\r\n",
        "\r\n",
        "可以向脚本添加参数以提高训练试验的灵活性，从而可以使用各种设置重复进行相同的训练试验。这种情况下，你将在训练模型时为逻辑回归算法所使用的正则化率添加一个参数。\r\n",
        "\r\n",
        "同样，先为参数化脚本和训练数据创建一个文件夹。"
      ]
    },
    {
      "cell_type": "code",
      "execution_count": null,
      "metadata": {},
      "outputs": [],
      "source": [
        "import os, shutil\n",
        "\n",
        "# 为试验文件创建文件夹\r\n",
        "training_folder = 'diabetes-training-params'\n",
        "os.makedirs(training_folder, exist_ok=True)\n",
        "\n",
        "# 将数据文件复制到试验文件夹\r\n",
        "shutil.copy('data/diabetes.csv', os.path.join(training_folder, \"diabetes.csv\"))"
      ]
    },
    {
      "cell_type": "markdown",
      "metadata": {},
      "source": [
        "接下来为正则化率超参数创建包含参数的脚本。"
      ]
    },
    {
      "cell_type": "code",
      "execution_count": null,
      "metadata": {},
      "outputs": [],
      "source": [
        "%%writefile $training_folder/diabetes_training.py\n",
        "# 导入库\r\n",
        "from azureml.core import Run\n",
        "import pandas as pd\n",
        "import numpy as np\n",
        "import joblib\n",
        "import argparse\n",
        "from sklearn.model_selection import train_test_split\n",
        "from sklearn.linear_model import LogisticRegression\n",
        "from sklearn.metrics import roc_auc_score\n",
        "from sklearn.metrics import roc_curve\n",
        "\n",
        "# 获取试验运行上下文\r\n",
        "run = Run.get_context()\n",
        "\n",
        "# 设置正则化超参数\r\n",
        "parser = argparse.ArgumentParser()\n",
        "parser.add_argument('--reg_rate', type=float, dest='reg', default=0.01)\n",
        "args = parser.parse_args()\n",
        "reg = args.reg\n",
        "\n",
        "# 加载糖尿病数据集\r\n",
        "print(\"Loading Data...\")\n",
        "# 加载糖尿病数据集\r\n",
        "diabetes = pd.read_csv('diabetes.csv')\n",
        "\n",
        "# 分隔特征和标签\r\n",
        "X, y = diabetes[['Pregnancies','PlasmaGlucose','DiastolicBloodPressure','TricepsThickness','SerumInsulin','BMI','DiabetesPedigree','Age']].values, diabetes['Diabetic'].values\n",
        "\n",
        "# 将数据拆分为训练集和测试集\r\n",
        "X_train, X_test, y_train, y_test = train_test_split(X, y, test_size=0.30, random_state=0)\n",
        "\n",
        "# 训练逻辑回归模型\r\n",
        "print('Training a logistic regression model with regularization rate of', reg)\n",
        "run.log('Regularization Rate',  np.float(reg))\n",
        "model = LogisticRegression(C=1/reg, solver=\"liblinear\").fit(X_train, y_train)\n",
        "\n",
        "# 计算精度\r\n",
        "y_hat = model.predict(X_test)\n",
        "acc = np.average(y_hat == y_test)\n",
        "print('Accuracy:', acc)\n",
        "run.log('Accuracy', np.float(acc))\n",
        "\n",
        "# 计算 AUC\r\n",
        "y_scores = model.predict_proba(X_test)\n",
        "auc = roc_auc_score(y_test,y_scores[:,1])\n",
        "print('AUC: ' + str(auc))\n",
        "run.log('AUC', np.float(auc))\n",
        "\n",
        "os.makedirs('outputs', exist_ok=True)\n",
        "joblib.dump(value=model, filename='outputs/diabetes_model.pkl')\n",
        "\n",
        "run.complete()"
      ]
    },
    {
      "cell_type": "markdown",
      "metadata": {},
      "source": [
        "## 使用特定于框架的估算器\r\n",
        "\r\n",
        "你使用了通用的**“估算器”**类来运行训练脚本，但你还可以利用特定于框架的估算器，其中包括常见机器学习框架的环境定义。这种情况下，你使用的是 Scikit-Learn，因此可以使用 **SKLearn** 估算器。这意味着无需在配置中指定 **scikit-learn** 包。"
      ]
    },
    {
      "cell_type": "code",
      "execution_count": null,
      "metadata": {},
      "outputs": [],
      "source": [
        "from azureml.train.sklearn import SKLearn\n",
        "from azureml.widgets import RunDetails\n",
        "\n",
        "# 创建估算器\r\n",
        "estimator = SKLearn(source_directory=training_folder,\n",
        "                    entry_script='diabetes_training.py',\n",
        "                    script_params = {'--reg_rate': 0.1},\n",
        "                    compute_target='local'\n",
        "                    )\n",
        "\n",
        "# 创建试验\r\n",
        "experiment_name = 'diabetes-training'\n",
        "experiment = Experiment(workspace = ws, name = experiment_name)\n",
        "\n",
        "# 运行试验\r\n",
        "run = experiment.submit(config=estimator)\n",
        "\n",
        "# 在运行时显示运行详细信息\r\n",
        "RunDetails(run).show()\n",
        "run.wait_for_completion()"
      ]
    },
    {
      "cell_type": "markdown",
      "metadata": {},
      "source": [
        "同样，我们可以从已完成运行获取指标和输出。"
      ]
    },
    {
      "cell_type": "code",
      "execution_count": null,
      "metadata": {},
      "outputs": [],
      "source": [
        "# 获取记录的指标\r\n",
        "metrics = run.get_metrics()\n",
        "for key in metrics.keys():\n",
        "        print(key, metrics.get(key))\n",
        "print('\\n')\n",
        "for file in run.get_file_names():\n",
        "    print(file)"
      ]
    },
    {
      "cell_type": "markdown",
      "metadata": {},
      "source": [
        "## 注册模型的新版本\r\n",
        "\r\n",
        "训练新模型后，可以在工作区中将其注册为新版本。"
      ]
    },
    {
      "cell_type": "code",
      "execution_count": null,
      "metadata": {},
      "outputs": [],
      "source": [
        "from azureml.core import Model\n",
        "\n",
        "# 注册模型\r\n",
        "run.register_model(model_path='outputs/diabetes_model.pkl', model_name='diabetes_model',\n",
        "                   tags={'Training context':'Parameterized SKLearn Estimator'},\n",
        "                   properties={'AUC': run.get_metrics()['AUC'], 'Accuracy': run.get_metrics()['Accuracy']})\n",
        "\n",
        "# 列出已注册的模型\r\n",
        "for model in Model.list(ws):\n",
        "    print(model.name, 'version:', model.version)\n",
        "    for tag_name in model.tags:\n",
        "        tag = model.tags[tag_name]\n",
        "        print ('\\t',tag_name, ':', tag)\n",
        "    for prop_name in model.properties:\n",
        "        prop = model.properties[prop_name]\n",
        "        print ('\\t',prop_name, ':', prop)\n",
        "    print('\\n')"
      ]
    },
    {
      "cell_type": "markdown",
      "metadata": {},
      "source": [
        "浏览完毕后，可以关闭此笔记本并关闭计算实例。"
      ]
    }
  ],
  "metadata": {
    "kernelspec": {
      "display_name": "Python 3.6 - AzureML",
      "language": "python",
      "name": "python3-azureml"
    },
    "language_info": {
      "codemirror_mode": {
        "name": "ipython",
        "version": 3
      },
      "file_extension": ".py",
      "mimetype": "text/x-python",
      "name": "python",
      "nbconvert_exporter": "python",
      "pygments_lexer": "ipython3",
      "version": "3.6.9"
    }
  },
  "nbformat": 4,
  "nbformat_minor": 2
}