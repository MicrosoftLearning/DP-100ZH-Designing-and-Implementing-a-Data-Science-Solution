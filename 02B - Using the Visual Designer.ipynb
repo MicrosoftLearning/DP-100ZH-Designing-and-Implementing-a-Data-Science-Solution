﻿{
 "cells": [
  {
   "cell_type": "markdown",
   "metadata": {},
   "source": [
    "#使用可视化设计器\n",
    "\n",
    "> **重要事项**：本练习假设已完成[实验 2A](labdocs/Lab02A.md) 和[实验 2B](labdocs/Lab02B.md)，创建了推理管道并已部署为容器化服务。\n",
    "\n",
    "将以下单元格中的代码修改为使用**“预测糖尿病”**服务的 ***ENDPOINT*** 和 ***PRIMARY_KEY***。然后，运行单元格以提交新的患者数据并检索预测的分类。"
   ]
  },
  {
   "cell_type": "code",
   "execution_count": null,
   "metadata": {},
   "outputs": [],
   "source": [
    "import urllib.request\n",
    "import json\n",
    "import os\n",
    "\n",
    "endpoint = 'ENDPOINT' #将此替换为终结点\n",
    "key = 'PRIMARY_KEY' #将此替换为主密钥\n",
    "\n",
    "data = {\n",
    "    \"Inputs\": {\n",
    "          \"WebServiceInput0\":\n",
    "          [\n",
    "              {\n",
    "                    'PatientID': \"1882185\",\n",
    "                    'Pregnancies': \"9\",\n",
    "                    'PlasmaGlucose': \"104\",\n",
    "                    'DiastolicBloodPressure': \"51\",\n",
    "                    'TricepsThickness': \"7\",\n",
    "                    'SerumInsulin': \"24\",\n",
    "                    'BMI': \"27.36983156\",\n",
    "                    'DiabetesPedigree': \"1.3504720469999998\",\n",
    "                    'Age': \"43\",\n",
    "              },\n",
    "          ],\n",
    "    },\n",
    "    \"GlobalParameters\":  {\n",
    "    }\n",
    "}\n",
    "\n",
    "body = str.encode(json.dumps(data))\n",
    "\n",
    "\n",
    "headers = {'Content-Type':'application/json', 'Authorization':('Bearer '+ key)}\n",
    "\n",
    "req = urllib.request.Request(endpoint, body, headers)\n",
    "\n",
    "try:\n",
    "    response = urllib.request.urlopen(req)\n",
    "\n",
    "    result = response.read()\n",
    "    print(result)\n",
    "except urllib.error.HTTPError as error:\n",
    "    print(\"The request failed with status code: \" + str(error.code))\n",
    "\n",
    "    #打印标题 - 标题中包含请求 ID 和时间戳，对于调试故障非常有用\n",
    "    print(error.info())\n",
    "    print(json.loads(error.read().decode(\"utf8\", 'ignore')))"
   ]
  }
 ],
 "metadata": {
  "kernelspec": {
   "display_name": "Python 3.6 - AzureML",
   "language": "python",
   "name": "python3-azureml"
  },
  "language_info": {
   "codemirror_mode": {
    "name": "ipython",
    "version": 3
   },
   "file_extension": ".py",
   "mimetype": "text/x-python",
   "name": "python",
   "nbconvert_exporter": "python",
   "pygments_lexer": "ipython3",
   "version": "3.6.9"
  }
 },
 "nbformat": 4,
 "nbformat_minor": 2
}