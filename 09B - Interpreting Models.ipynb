﻿{
  "cells": [
    {
      "cell_type": "markdown",
      "metadata": {},
      "source": [
        "# 解释模型\r\n",
        "\r\n",
        "可以使用 Azure 机器学习并通过*解释*器来解释模型，该解释器可以量化每个特征对预测标签的影响程度。有许多常见的解释器，每种解释器适用于不同类型的建模算法；但其基本使用方法是相同的。"
      ]
    },
    {
      "cell_type": "markdown",
      "metadata": {},
      "source": [
        "## 解释模型\r\n",
        "\r\n",
        "我们从在 Azure 机器学习之外训练的模型开始 - 运行以下单元格以训练决策树分类模型。"
      ]
    },
    {
      "cell_type": "code",
      "execution_count": null,
      "metadata": {},
      "outputs": [],
      "source": [
        "import pandas as pd\n",
        "import numpy as np\n",
        "import joblib\n",
        "from sklearn.model_selection import train_test_split\n",
        "from sklearn.tree import DecisionTreeClassifier\n",
        "from sklearn.metrics import roc_auc_score\n",
        "from sklearn.metrics import roc_curve\n",
        "\n",
        "# 加载糖尿病数据集\r\n",
        "print(\"Loading Data...\")\n",
        "data = pd.read_csv('data/diabetes.csv')\n",
        "\n",
        "# 分隔特征和标签\r\n",
        "features = ['Pregnancies','PlasmaGlucose','DiastolicBloodPressure','TricepsThickness','SerumInsulin','BMI','DiabetesPedigree','Age']\n",
        "labels = ['not-diabetic', 'diabetic']\n",
        "X, y = data[features].values, data['Diabetic'].values\n",
        "\n",
        "# 将数据拆分为训练集和测试集\r\n",
        "X_train, X_test, y_train, y_test = train_test_split(X, y, test_size=0.30, random_state=0)\n",
        "\n",
        "# 训练决策树模型\r\n",
        "print('Training a decision tree model')\n",
        "model = DecisionTreeClassifier().fit(X_train, y_train)\n",
        "\n",
        "# 计算精度\r\n",
        "y_hat = model.predict(X_test)\n",
        "acc = np.average(y_hat == y_test)\n",
        "print('Accuracy:', acc)\n",
        "\n",
        "# 计算 AUC\r\n",
        "y_scores = model.predict_proba(X_test)\n",
        "auc = roc_auc_score(y_test,y_scores[:,1])\n",
        "print('AUC: ' + str(auc))\n",
        "\n",
        "print('Model trained.')"
      ]
    },
    {
      "cell_type": "markdown",
      "metadata": {},
      "source": [
        "训练过程中根据保留的验证数据集生成了一些模型评估指标，以便你了解其预测的准确性；但是数据中的特征如何影响预测呢？\r\n",
        "\r\n",
        "### 安装 Azure ML 可解释性库\r\n",
        "要了解详情，请首先安装 Azure ML 可解释性库。可以使用此库解释许多典型的模型，即使还未在 Azure ML 试验中训练它们或还未在 Azure ML 工作区中注册它们。"
      ]
    },
    {
      "cell_type": "code",
      "execution_count": null,
      "metadata": {
        "scrolled": true
      },
      "outputs": [],
      "source": [
        "!pip install --upgrade azureml-interpret"
      ]
    },
    {
      "cell_type": "markdown",
      "metadata": {},
      "source": [
        "### 获取模型解释器\r\n",
        "\r\n",
        "你已安装此库，现在我们来获取适合的模型解释器。有多种类型的*解释*器。在此示例中，你将使用表格解释器，这是一种“黑盒”解释器，可用于通过调用适当的 [SHAP](https://github.com/slundberg/shap) 模型解释器来解释多种类型的模型。"
      ]
    },
    {
      "cell_type": "code",
      "execution_count": null,
      "metadata": {},
      "outputs": [],
      "source": [
        "from interpret.ext.blackbox import TabularExplainer\n",
        "\n",
        "# “特征”和“类”字段是可选的\r\n",
        "tab_explainer = TabularExplainer(model, \n",
        "                             X_train, \n",
        "                             features=features, \n",
        "                             classes=labels)\n",
        "print(tab_explainer, \"ready!\")"
      ]
    },
    {
      "cell_type": "markdown",
      "metadata": {},
      "source": [
        "### 获取全局特征重要性\r\n",
        "\r\n",
        "首先要通过评估整体*特征重要性*来解释模型 - 换言之，根据整体训练数据集来量化每个特征对预测的影响程度。"
      ]
    },
    {
      "cell_type": "code",
      "execution_count": null,
      "metadata": {},
      "outputs": [],
      "source": [
        "# 可使用此处的训练数据或测试数据\r\n",
        "global_tab_explanation = tab_explainer.explain_global(X_train)\n",
        "\n",
        "# 获取按重要性划分的主要功能\r\n",
        "global_tab_feature_importance = global_tab_explanation.get_feature_importance_dict()\n",
        "for feature, importance in global_tab_feature_importance.items():\n",
        "    print(feature,\":\", importance)"
      ]
    },
    {
      "cell_type": "markdown",
      "metadata": {},
      "source": [
        "已对特征重要性进行排名，最重要的特征排在最前面。\r\n",
        "\r\n",
        "### 获取本地特征重要性\r\n",
        "\r\n",
        "现在你有了一个整体的了解，但是如何解释单个观察结果呢？现在为单个预测生成*本地*解释，量化每个特征对预测每个可能标签值的决策的影响程度。在本例中，它是二进制模型，因此有两个可能的标签（非糖尿病和糖尿病）；你可以量化每个特征对数据集中单个观察结果的每个标签值的影响程度。只需评估测试数据集中的前两个案例。"
      ]
    },
    {
      "cell_type": "code",
      "execution_count": null,
      "metadata": {
        "scrolled": false
      },
      "outputs": [],
      "source": [
        "# 获取我们想要解释的观察结果（前两个）\r\n",
        "X_explain = X_test[0:2]\n",
        "\n",
        "# 获取预测\r\n",
        "predictions = model.predict(X_explain)\n",
        "\n",
        "# 获取本地解释\r\n",
        "local_tab_explanation = tab_explainer.explain_local(X_explain)\n",
        "\n",
        "# 获取每个可能的标签的特征名称和重要性\r\n",
        "local_tab_features = local_tab_explanation.get_ranked_local_names()\n",
        "local_tab_importance = local_tab_explanation.get_ranked_local_values()\n",
        "\n",
        "for l in range(len(local_tab_features)):\n",
        "    print('Support for', labels[l])\n",
        "    label = local_tab_features[l]\n",
        "    for o in range(len(label)):\n",
        "        print(\"\\tObservation\", o + 1)\n",
        "        feature_list = label[o]\n",
        "        total_support = 0\n",
        "        for f in range(len(feature_list)):\n",
        "            print(\"\\t\\t\", feature_list[f], ':', local_tab_importance[l][o][f])\n",
        "            total_support += local_tab_importance[l][o][f]\n",
        "        print(\"\\t\\t ----------\\n\\t\\t Total:\", total_support, \"Prediction:\", labels[predictions[o]])\n",
        "\n"
      ]
    },
    {
      "cell_type": "markdown",
      "metadata": {},
      "source": [
        "## 为 Azure ML 模型训练实验添加可解释性\r\n",
        "\r\n",
        "正如你所见，你可为在 Azure ML 之外训练的模型生成解释；但是当你在 Azure ML 工作区中使用试验来训练模型时，可以生成模型解释并记录它们。\r\n",
        "\r\n",
        "你首先需要使用 Azure ML SDK 连接到工作区。\r\n",
        "\r\n",
        "> **注意**：如果 Azure 订阅的身份验证会话在你完成上一练习后已过期，系统将提示你重新进行身份验证。"
      ]
    },
    {
      "cell_type": "code",
      "execution_count": null,
      "metadata": {},
      "outputs": [],
      "source": [
        "import azureml.core\n",
        "from azureml.core import Workspace\n",
        "\n",
        "# 从保存的配置文件加载工作区\r\n",
        "ws = Workspace.from_config()\n",
        "print('Ready to use Azure ML {} to work with {}'.format(azureml.core.VERSION, ws.name))"
      ]
    },
    {
      "cell_type": "markdown",
      "metadata": {},
      "source": [
        "### 使用试验训练和解释模型\r\n",
        "\r\n",
        "现在来创建试验并将其所需的文件放在本地文件夹中 - 在本例中，我们将仅使用相同的糖尿病数据 CSV 文件来训练模型。"
      ]
    },
    {
      "cell_type": "code",
      "execution_count": null,
      "metadata": {},
      "outputs": [],
      "source": [
        "import os, shutil\n",
        "from azureml.core import Experiment\n",
        "\n",
        "# 为试验文件创建文件夹\r\n",
        "experiment_folder = 'diabetes_train_and_explain'\n",
        "os.makedirs(experiment_folder, exist_ok=True)\n",
        "\n",
        "# 将数据文件复制到试验文件夹\r\n",
        "shutil.copy('data/diabetes.csv', os.path.join(experiment_folder, \"diabetes.csv\"))"
      ]
    },
    {
      "cell_type": "markdown",
      "metadata": {},
      "source": [
        "现在，我们将创建一个训练脚本，它看起来与任何其他 Azure ML 训练脚本相似，但它包括以下功能：\r\n",
        "\r\n",
        "- 导入我们之前使用的用于生成模型解释的相同库，并将这些库用于生成全局解释\r\n",
        "- 使用 **ExplanationClient** 库将解释上传到试验输出"
      ]
    },
    {
      "cell_type": "code",
      "execution_count": null,
      "metadata": {},
      "outputs": [],
      "source": [
        "%%writefile $experiment_folder/diabetes_training.py\n",
        "# 导入库\r\n",
        "import pandas as pd\n",
        "import numpy as np\n",
        "import joblib\n",
        "from sklearn.model_selection import train_test_split\n",
        "from sklearn.tree import DecisionTreeClassifier\n",
        "from sklearn.metrics import roc_auc_score\n",
        "from sklearn.metrics import roc_curve\n",
        "\n",
        "# 导入 Azure ML 运行库\r\n",
        "from azureml.core.run import Run\n",
        "\n",
        "# 导入用于模型解释的库\r\n",
        "from azureml.contrib.interpret.explanation.explanation_client import ExplanationClient\n",
        "from interpret.ext.blackbox import TabularExplainer\n",
        "\n",
        "# 获取试验运行上下文\r\n",
        "run = Run.get_context()\n",
        "\n",
        "# 加载糖尿病数据集\r\n",
        "print(\"Loading Data...\")\n",
        "data = pd.read_csv('diabetes.csv')\n",
        "\n",
        "features = ['Pregnancies','PlasmaGlucose','DiastolicBloodPressure','TricepsThickness','SerumInsulin','BMI','DiabetesPedigree','Age']\n",
        "labels = ['not-diabetic', 'diabetic']\n",
        "\n",
        "# 分隔特征和标签\r\n",
        "X, y = data[features].values, data['Diabetic'].values\n",
        "\n",
        "# 将数据拆分为训练集和测试集\r\n",
        "X_train, X_test, y_train, y_test = train_test_split(X, y, test_size=0.30, random_state=0)\n",
        "\n",
        "# 训练决策树模型\r\n",
        "print('Training a decision tree model')\n",
        "model = DecisionTreeClassifier().fit(X_train, y_train)\n",
        "\n",
        "# 计算精度\r\n",
        "y_hat = model.predict(X_test)\n",
        "acc = np.average(y_hat == y_test)\n",
        "run.log('Accuracy', np.float(acc))\n",
        "\n",
        "# 计算 AUC\r\n",
        "y_scores = model.predict_proba(X_test)\n",
        "auc = roc_auc_score(y_test,y_scores[:,1])\n",
        "run.log('AUC', np.float(auc))\n",
        "\n",
        "os.makedirs('outputs', exist_ok=True)\n",
        "# 注意，保存在输出文件夹中的文件会自动上传到试验记录\r\n",
        "joblib.dump(value=model, filename='outputs/diabetes.pkl')\n",
        "\n",
        "# 获取解释\r\n",
        "explainer = TabularExplainer(model, X_train, features=features, classes=labels)\n",
        "explanation = explainer.explain_global(X_test)\n",
        "\n",
        "# 获取解释客户端并上传解释\r\n",
        "explain_client = ExplanationClient.from_run(run)\n",
        "explain_client.upload_model_explanation(explanation, comment='Tabular Explanation')\n",
        "\n",
        "# 完成运行\r\n",
        "run.complete()"
      ]
    },
    {
      "cell_type": "markdown",
      "metadata": {},
      "source": [
        "现在你可以运行该试验，并使用估算器运行训练脚本。请注意，**azureml-interpret** 库包含在训练环境中，使该脚本可创建 **TabularExplainer**，并且 **azureml-contrib-interpret** 包包含在内，使该脚本可使用 **ExplainerClient** 类。"
      ]
    },
    {
      "cell_type": "code",
      "execution_count": null,
      "metadata": {
        "scrolled": true
      },
      "outputs": [],
      "source": [
        "from azureml.train.estimator import Estimator\n",
        "from azureml.core import Environment\n",
        "from azureml.core.conda_dependencies import CondaDependencies\n",
        "from azureml.widgets import RunDetails\n",
        "\n",
        "# 创建用于试验的 Python 环境\r\n",
        "env = Environment('diabetes-interpret-env')\n",
        "env.python.user_managed_dependencies = False # 让 Azure ML 管理依赖项\r\n",
        "env.docker.enabled = True # 使用 docker 容器\r\n",
        "\n",
        "# 创建一组包依赖项（包括 azureml-contrib-interpret 包）\r\n",
        "packages = CondaDependencies.create(conda_packages=['scikit-learn','pandas'],\n",
        "                                    pip_packages=['azureml-defaults','azureml-interpret','azureml-contrib-interpret'])\n",
        "\n",
        "# 将依赖项添加到环境\r\n",
        "env.python.conda_dependencies = packages\n",
        "\n",
        "# 创建估算器\r\n",
        "estimator = Estimator(source_directory=experiment_folder,\n",
        "              compute_target = 'local', # 使用本地计算\r\n",
        "              environment_definition = env,\n",
        "              entry_script='diabetes_training.py')\n",
        "\n",
        "# 运行试验\r\n",
        "experiment = Experiment(workspace = ws, name = 'diabetes_train_and_explain')\n",
        "run = experiment.submit(config=estimator)\n",
        "RunDetails(run).show()\n",
        "run.wait_for_completion()"
      ]
    },
    {
      "cell_type": "markdown",
      "metadata": {},
      "source": [
        "## 检索特征重要性值\r\n",
        "\r\n",
        "试验运行完成后，可以使用 **ExplanationClient** 类从为运行注册的解释中检索特征重要性。"
      ]
    },
    {
      "cell_type": "code",
      "execution_count": null,
      "metadata": {},
      "outputs": [],
      "source": [
        "from azureml.contrib.interpret.explanation.explanation_client import ExplanationClient\n",
        "\n",
        "# 获取特征解释\r\n",
        "client = ExplanationClient.from_run(run)\n",
        "engineered_explanations = client.download_model_explanation()\n",
        "feature_importances = engineered_explanations.get_feature_importance_dict()\n",
        "\n",
        "# 整体特征重要性\r\n",
        "print('Feature\\tImportance')\n",
        "for key, value in feature_importances.items():\n",
        "    print(key, '\\t', value)"
      ]
    },
    {
      "cell_type": "markdown",
      "metadata": {},
      "source": [
        "## 在 Azure 机器学习工作室中查看模型解释\r\n",
        "\r\n",
        "还可以单击“运行详细信息”小组件中的链接以在 Azure 机器学习工作室中查看运行，并查看**解释**选项卡。然后：\r\n",
        "\r\n",
        "1.选择**表格解释**解释器。\r\n",
        "2.查看**全局重要性**图表，其中显示整体全局特征重要性。\r\n",
        "3.查看**摘要重要性**图表，其中显示分*簇散点图*、*小提琴图*或*盒须图*中测试数据的每个数据点。\r\n",
        "4.选择单个点以查看所选数据点的单个预测的**本地特征重要性**。\r\n"
      ]
    },
    {
      "cell_type": "markdown",
      "metadata": {},
      "source": [
        "**更多信息**：有关在 Azure ML 中使用解释器的详细信息，请参阅此[文档](https://docs.microsoft.com/azure/machine-learning/how-to-machine-learning-interpretability)。 "
      ]
    }
  ],
  "metadata": {
    "kernelspec": {
      "display_name": "Python 3.6 - AzureML",
      "language": "python",
      "name": "python3-azureml"
    },
    "language_info": {
      "codemirror_mode": {
        "name": "ipython",
        "version": 3
      },
      "file_extension": ".py",
      "mimetype": "text/x-python",
      "name": "python",
      "nbconvert_exporter": "python",
      "pygments_lexer": "ipython3",
      "version": "3.6.9"
    }
  },
  "nbformat": 4,
  "nbformat_minor": 2
}