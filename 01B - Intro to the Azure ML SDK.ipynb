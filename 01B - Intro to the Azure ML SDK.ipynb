﻿{
  "cells": [
    {
      "cell_type": "markdown",
      "metadata": {},
      "source": [
        "# Azure ML SDK 简介\n",
        "\n",
        "Azure 机器学习 (*Azure ML*) 是一项基于云的服务，用于创建和管理机器学习解决方案。它旨在帮助数据科学家利用其现有的数据处理以及模型开发技能和框架，并帮助将工作负载扩展到云。适用于 Python 的 Azure ML SDK 提供了可用于在 Azure 订阅中与 Azure ML 配合使用的类。\n",
        "\n",
        "## 检查 Azure ML SDK 版本\n",
        "\n",
        "接下来先导入 **azureml-core** 包并检查已安装的 SDK 版本。"
      ]
    },
    {
      "cell_type": "code",
      "execution_count": null,
      "metadata": {},
      "outputs": [],
      "source": [
        "import azureml.core\n",
        "print(\"Ready to use Azure ML\", azureml.core.VERSION)"
      ]
    },
    {
      "cell_type": "markdown",
      "metadata": {},
      "source": [
        "## 连接到工作区\n",
        "\n",
        "所有试验和相关资源都在 Azure ML 工作区中进行托管。可以连接到现有工作区，也可以使用 Azure ML SDK 新建工作区。\n",
        "\n",
        "大多数情况下，应该将工作区配置存储在 JSON 配置文件中。这会使重新连接变得更加容易，且无需记住 Azure 订阅 ID 等详细信息。可以从 Azure 门户的工作区中的边栏选项卡下载 JSON 配置文件，但如果在工作区中使用的是计算实例，则该配置文件已下载到根文件夹中。\n",
        "\n",
        "以下代码使用配置文件连接到工作区。首次在笔记本会话中运行它时，系统将提示通过单击 https://microsoft.com/devicelogin 链接，输入自动生成的代码并登录 Azure 来登录 Azure。成功登录后，可以关闭打开的浏览器选项卡并返回此笔记本。"
      ]
    },
    {
      "cell_type": "code",
      "execution_count": null,
      "metadata": {},
      "outputs": [],
      "source": [
        "from azureml.core import Workspace\n",
        "\n",
        "ws = Workspace.from_config()\n",
        "print(ws.name, \"loaded\")"
      ]
    },
    {
      "cell_type": "markdown",
      "metadata": {},
      "source": [
        "## 查看 Azure ML 资源\n",
        "\n",
        "连接到工作区后，可以查看其中包含的资源。"
      ]
    },
    {
      "cell_type": "code",
      "execution_count": null,
      "metadata": {},
      "outputs": [],
      "source": [
        "from azureml.core import ComputeTarget, Datastore, Dataset\n",
        "\n",
        "print(\"Compute Targets:\")\n",
        "for compute_name in ws.compute_targets:\n",
        "    compute = ws.compute_targets[compute_name]\n",
        "    print(\"\\t\", compute.name, ':', compute.type)\n",
        "    \n",
        "print(\"Datastores:\")\n",
        "for datastore_name in ws.datastores:\n",
        "    datastore = Datastore.get(ws, datastore_name)\n",
        "    print(\"\\t\", datastore.name, ':', datastore.datastore_type)\n",
        "    \n",
        "print(\"Datasets:\")\n",
        "for dataset_name in list(ws.datasets.keys()):\n",
        "    dataset = Dataset.get_by_name(ws, dataset_name)\n",
        "    print(\"\\t\", dataset.name)"
      ]
    },
    {
      "cell_type": "markdown",
      "metadata": {},
      "source": [
        "现已了解如何使用 Azure ML SDK 查看工作区中的资源。借助该 SDK，可以很好地编写通过 Azure ML 操作机器学习工作负载所需资源的创建和配置脚本。有关详细信息，请参阅 [Azure ML SDK 文档](https://docs.microsoft.com/python/api/overview/azure/ml/intro?view=azure-ml-py)。"
      ]
    }
  ],
  "metadata": {
    "kernelspec": {
      "display_name": "Python 3.6 - AzureML",
      "language": "python",
      "name": "python3-azureml"
    },
    "language_info": {
      "codemirror_mode": {
        "name": "ipython",
        "version": 3
      },
      "file_extension": ".py",
      "mimetype": "text/x-python",
      "name": "python",
      "nbconvert_exporter": "python",
      "pygments_lexer": "ipython3",
      "version": "3.6.9"
    }
  },
  "nbformat": 4,
  "nbformat_minor": 2
}