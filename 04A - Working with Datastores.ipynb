{
  "cells": [
    {
      "cell_type": "markdown",
      "metadata": {},
      "source": [
        "# 使用数据存储\r\n",
        "\r\n",
        "数据是构建机器学习模型的基础。在云中集中管理数据，并使在多个工作站上运行试验和训练模型的数据科学家团队能够访问这些数据以及计算目标，这是任何专业数据科学解决方案的重要组成部分。\r\n",
        "\r\n",
        "在该笔记本中，你将探索两个用于数据处理的 Azure 机器学习对象： *数据存储* 和 *数据集*。\r\n",
        "\r\n",
        "## 安装 Azure 机器学习 SDK\r\n",
        "\r\n",
        "Azure 机器学习 SDK 经常更新。运行以下单元格以升级到最新版本，并获取其他包以支持笔记本小组件。"
      ]
    },
    {
      "cell_type": "code",
      "execution_count": null,
      "metadata": {},
      "outputs": [],
      "source": [
        "!pip install --upgrade azureml-sdk azureml-widgets"
      ]
    },
    {
      "cell_type": "markdown",
      "metadata": {},
      "source": [
        "## 连接到工作区\r\n",
        "\r\n",
        "安装了最新版本的 SDK 之后，就可以连接到工作区了。\r\n",
        "\r\n",
        "> **备注**：如果尚未与 Azure 订阅建立经过身份验证的会话，则系统将提示你通过执行以下操作进行身份验证：单击链接，输入验证码，然后登录到 Azure。"
      ]
    },
    {
      "cell_type": "code",
      "execution_count": null,
      "metadata": {},
      "outputs": [],
      "source": [
        "import azureml.core\n",
        "from azureml.core import Workspace\n",
        "\n",
        "# 从保存的配置文件加载工作区\r\n",
        "ws = Workspace.from_config()\n",
        "print('Ready to use Azure ML {} to work with {}'.format(azureml.core.VERSION, ws.name))"
      ]
    },
    {
      "cell_type": "markdown",
      "metadata": {},
      "source": [
        "## 使用数据存储\r\n",
        "\r\n",
        "在 Azure ML 中，*数据存储* 是对存储位置（例如 Azure 存储 Blob 容器）的引用。每个工作区都有一个默认的数据存储，该存储通常是使用相应工作区创建的 Azure 存储 Blob 容器。如果需要使用存储在不同位置的数据，则可以将自定义数据存储添加到工作区中，并将其中任何一个设置为默认值。\r\n",
        "\r\n",
        "### 查看数据存储\r\n",
        "\r\n",
        "运行以下代码以确定工作区中的数据存储："
      ]
    },
    {
      "cell_type": "code",
      "execution_count": null,
      "metadata": {},
      "outputs": [],
      "source": [
        "# 获取默认数据存储\r\n",
        "default_ds = ws.get_default_datastore()\n",
        "\n",
        "# 枚举所有数据存储，指出默认项\r\n",
        "for ds_name in ws.datastores:\n",
        "    print(ds_name, \"- Default =\", ds_name == default_ds.name)"
      ]
    },
    {
      "cell_type": "markdown",
      "metadata": {},
      "source": [
        "你还可以在 [Azure 机器学习工作室](https://ml.azure.com)中工作区的 **“数据集”** 页面上查看和管理工作区中的数据存储。\r\n",
        "\r\n",
        "### 将数据上传到数据存储\r\n",
        "\r\n",
        "确定可用的数据存储后，可以将文件从本地文件系统上传到数据存储，这样无论试验脚本实际在何处运行，工作区中运行的试验都能访问相应文件。"
      ]
    },
    {
      "cell_type": "code",
      "execution_count": null,
      "metadata": {},
      "outputs": [],
      "source": [
        "default_ds.upload_files(files=['./data/diabetes.csv', './data/diabetes2.csv'], # 将糖尿病 csv 文件上传到 /data 中\n",
        "                       target_path='diabetes-data/', # 将其放在数据存储的文件夹路径中\n",
        "                       overwrite=True, # 替换名称相同的现有文件\n",
        "                       show_progress=True)"
      ]
    }
  ],
  "metadata": {
    "kernelspec": {
      "display_name": "Python 3.6 - AzureML",
      "language": "python",
      "name": "python3-azureml"
    },
    "language_info": {
      "codemirror_mode": {
        "name": "ipython",
        "version": 3
      },
      "file_extension": ".py",
      "mimetype": "text/x-python",
      "name": "python",
      "nbconvert_exporter": "python",
      "pygments_lexer": "ipython3",
      "version": "3.6.9"
    }
  },
  "nbformat": 4,
  "nbformat_minor": 2
}