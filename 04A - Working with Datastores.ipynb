﻿{
 "cells": [
  {
   "cell_type": "markdown",
   "metadata": {},
   "source": [
    "#使用数据存储\n",
    "\n",
    "在之前的实验中，你连接到 Azure ML 工作区并根据运行试验脚本的本地 CSV 文件中的数据运行了一个简单试验。现在是时候使用存储在云中的数据了。\n",
    "\n",
    "> **重要事项**：本笔记本中的代码假定你已完成[实验 4A](labdocs/Lab04A.md) 中的前两个任务。如果尚未完成，请立即完成！\n",
    "\n",
    "##连接到工作区\n",
    "\n",
    "你首先需要使用 Azure ML SDK 连接到工作区。\n",
    "\n",
    "> **注意**：如果 Azure 订阅的身份验证会话在你完成上一练习后已过期，系统将提示你重新进行身份验证。"
   ]
  },
  {
   "cell_type": "code",
   "execution_count": null,
   "metadata": {},
   "outputs": [],
   "source": [
    "import azureml.core\n",
    "from azureml.core import Workspace\n",
    "\n",
    "#从保存的配置文件加载工作区\n",
    "ws = Workspace.from_config()\n",
    "print('Ready to use Azure ML {} to work with {}'.format(azureml.core.VERSION, ws.name))"
   ]
  },
  {
   "cell_type": "markdown",
   "metadata": {},
   "source": [
    "##查看工作区中的数据存储\n",
    "\n",
    "工作区包含多个数据存储，其中包括[上一任务](labdocs/Lab04A.md)中创建的 **aml_data** 数据存储。\n",
    "\n",
    "运行以下代码检索*默认*数据存储，然后列出所有数据存储，指出默认项。"
   ]
  },
  {
   "cell_type": "code",
   "execution_count": null,
   "metadata": {},
   "outputs": [],
   "source": [
    "#获取默认数据存储\n",
    "default_ds = ws.get_default_datastore()\n",
    "\n",
    "#枚举所有数据存储，指出默认项\n",
    "for ds_name in ws.datastores:\n",
    "    print(ds_name, \"- Default =\", ds_name == default_ds.name)"
   ]
  },
  {
   "cell_type": "markdown",
   "metadata": {},
   "source": [
    "##获取要使用的数据存储\n",
    "\n",
    "你需要使用 **aml_data** 数据存储，因此需按名称获取它："
   ]
  },
  {
   "cell_type": "code",
   "execution_count": null,
   "metadata": {},
   "outputs": [],
   "source": [
    "from azureml.core import Datastore\n",
    "\n",
    "aml_datastore = Datastore.get(ws, 'aml_data')\n",
    "print(aml_datastore.name,\":\", aml_datastore.datastore_type + \" (\" + aml_datastore.account_name + \")\")"
   ]
  },
  {
   "cell_type": "markdown",
   "metadata": {},
   "source": [
    "##设置默认数据存储\n",
    "\n",
    "你将主要使用本课程中的 **aml_data** 数据存储；因此，为方便起见，可以将其设置为默认数据存储："
   ]
  },
  {
   "cell_type": "code",
   "execution_count": null,
   "metadata": {},
   "outputs": [],
   "source": [
    "ws.set_default_datastore('aml_data')\n",
    "default_ds = ws.get_default_datastore()\n",
    "print(default_ds.name)"
   ]
  },
  {
   "cell_type": "markdown",
   "metadata": {},
   "source": [
    "##将数据上传到数据存储\n",
    "\n",
    "确定要使用的数据存储后，可以从本地文件系统上传文件，使工作区中运行的试验可以对文件进行访问，无论试验脚本运行位置是什么，都是如此。"
   ]
  },
  {
   "cell_type": "code",
   "execution_count": null,
   "metadata": {},
   "outputs": [],
   "source": [
    "default_ds.upload_files(files=['./data/diabetes.csv', './data/diabetes2.csv'], #将糖尿病 csv 文件上传到 /data 中\n",
    "                       target_path='diabetes-data/', #将其放在数据存储的文件夹路径中\n",
    "                       overwrite=True, #替换名称相同的现有文件\n",
    "                       show_progress=True)"
   ]
  },
  {
   "cell_type": "markdown",
   "metadata": {},
   "source": [
    "##从数据存储训练模型\n",
    "\n",
    "上传上述代码单元格中的文件时，请注意该代码返回了*数据引用*。数据引用可以将数据存储中的文件夹的路径传递到脚本（无论脚本运行位置是什么），使脚本可以访问数据存储位置中的数据。\n",
    "\n",
    "以下代码可引用其中上传了糖尿病 CSV 文件的 **diabetes-data** 文件夹，还可专门配置用于*下载*的数据引用 - 换句话说，它可用于将文件夹的内容下载到使用数据引用的计算上下文中。对于将在本地计算机上处理的少量数据，下载数据效果很好。使用远程计算时，你还可以将数据引用配置为*装载*数据存储位置并直接从数据源读取数据。\n",
    "\n",
    "> **更多信息**：有关使用数据存储的更多详细信息，请参阅 [Azure ML 文档](https://docs.microsoft.com/azure/machine-learning/how-to-access-data)。"
   ]
  },
  {
   "cell_type": "code",
   "execution_count": null,
   "metadata": {},
   "outputs": [],
   "source": [
    "data_ref = default_ds.path('diabetes-data').as_download(path_on_compute='diabetes_data')\n",
    "print(data_ref)"
   ]
  },
  {
   "cell_type": "markdown",
   "metadata": {},
   "source": [
    "若要在训练脚本中使用数据引用，则必须为其定义参数。运行以下两个代码单元格，创建以下内容：\n",
    "\n",
    "1.名为 **diabetes_training_from_datastore** 的文件夹\n",
    "2.使用训练数据来训练分类模型的脚本，该数据位于数据引用参数（传递给脚本）所引用的文件夹的所有 CSV 文件中。"
   ]
  },
  {
   "cell_type": "code",
   "execution_count": null,
   "metadata": {},
   "outputs": [],
   "source": [
    "import os\n",
    "\n",
    "#为试验文件创建文件夹\n",
    "experiment_folder = 'diabetes_training_from_datastore'\n",
    "os.makedirs(experiment_folder, exist_ok=True)\n",
    "print(experiment_folder, 'folder created.')"
   ]
  },
  {
   "cell_type": "code",
   "execution_count": null,
   "metadata": {},
   "outputs": [],
   "source": [
    "%%writefile $experiment_folder/diabetes_training.py\n",
    "#导入库\n",
    "import os\n",
    "import argparse\n",
    "from azureml.core import Run\n",
    "import pandas as pd\n",
    "import numpy as np\n",
    "import joblib\n",
    "from sklearn.model_selection import train_test_split\n",
    "from sklearn.linear_model import LogisticRegression\n",
    "from sklearn.metrics import roc_auc_score\n",
    "from sklearn.metrics import roc_curve\n",
    "\n",
    "#获取参数\n",
    "parser = argparse.ArgumentParser()\n",
    "parser.add_argument('--regularization', type=float, dest='reg_rate', default=0.01, help='regularization rate')\n",
    "parser.add_argument('--data-folder', type=str, dest='data_folder', help='data folder reference')\n",
    "args = parser.parse_args()\n",
    "reg = args.reg_rate\n",
    "\n",
    "#获取试验运行上下文\n",
    "run = Run.get_context()\n",
    "\n",
    "#从数据引用加载糖尿病数据\n",
    "data_folder = args.data_folder\n",
    "print(\"Loading data from\", data_folder)\n",
    "#加载所有文件并将其内容连接为单个数据帧\n",
    "all_files = os.listdir(data_folder)\n",
    "diabetes = pd.concat((pd.read_csv(os.path.join(data_folder,csv_file)) for csv_file in all_files))\n",
    "\n",
    "#分隔特征和标签\n",
    "X, y = diabetes[['Pregnancies','PlasmaGlucose','DiastolicBloodPressure','TricepsThickness','SerumInsulin','BMI','DiabetesPedigree','Age']].values, diabetes['Diabetic'].values\n",
    "\n",
    "#将数据拆分为训练集和测试集\n",
    "X_train, X_test, y_train, y_test = train_test_split(X, y, test_size=0.30, random_state=0)\n",
    "\n",
    "#训练逻辑回归模型\n",
    "print('Training a logistic regression model with regularization rate of', reg)\n",
    "run.log('Regularization Rate',  np.float(reg))\n",
    "model = LogisticRegression(C=1/reg, solver=\"liblinear\").fit(X_train, y_train)\n",
    "\n",
    "#计算精度\n",
    "y_hat = model.predict(X_test)\n",
    "acc = np.average(y_hat == y_test)\n",
    "print('Accuracy:', acc)\n",
    "run.log('Accuracy', np.float(acc))\n",
    "\n",
    "#计算 AUC\n",
    "y_scores = model.predict_proba(X_test)\n",
    "auc = roc_auc_score(y_test,y_scores[:,1])\n",
    "print('AUC: ' + str(auc))\n",
    "run.log('AUC', np.float(auc))\n",
    "\n",
    "os.makedirs('outputs', exist_ok=True)\n",
    "#注意，保存在输出文件夹中的文件会自动上传到试验记录\n",
    "joblib.dump(value=model, filename='outputs/diabetes_model.pkl')\n",
    "\n",
    "run.complete()"
   ]
  },
  {
   "cell_type": "markdown",
   "metadata": {},
   "source": [
    "脚本将从数据引用（作为参数传递给脚本）加载训练数据，因此现在只需设置脚本参数，以便运行试验时传递文件引用。"
   ]
  },
  {
   "cell_type": "code",
   "execution_count": null,
   "metadata": {},
   "outputs": [],
   "source": [
    "from azureml.train.sklearn import SKLearn\n",
    "from azureml.core import Experiment\n",
    "from azureml.widgets import RunDetails\n",
    "\n",
    "#设置参数\n",
    "script_params = {\n",
    "    '--regularization': 0.1, #正则化率\n",
    "    '--data-folder': data_ref #从数据存储下载文件的数据引用\n",
    "}\n",
    "\n",
    "\n",
    "#创建估算器\n",
    "estimator = SKLearn(source_directory=experiment_folder,\n",
    "                    entry_script='diabetes_training.py',\n",
    "                    script_params=script_params,\n",
    "                    compute_target = 'local'\n",
    "                   )\n",
    "\n",
    "#创建试验\n",
    "experiment_name = 'diabetes-training'\n",
    "experiment = Experiment(workspace = ws, name = experiment_name)\n",
    "\n",
    "#运行试验\n",
    "run = experiment.submit(config=estimator)\n",
    "#在运行时显示运行详细信息\n",
    "RunDetails(run).show()\n",
    "run.wait_for_completion()"
   ]
  },
  {
   "cell_type": "markdown",
   "metadata": {},
   "source": [
    "首次运行试验时，可能需要一些时间来设置 Python 环境 - 后续运行会更快。\n",
    "\n",
    "试验完成后，在小组件中查看 **azureml-logs/70_driver_log.txt** 输出日志以验证是否已下载数据文件。\n",
    "\n",
    "与所有试验一样，可以在 [Azure 机器学习工作室](https://ml.azure.com)中查看试验运行的详细信息，还可以编写代码检索生成的指标和文件："
   ]
  },
  {
   "cell_type": "code",
   "execution_count": null,
   "metadata": {},
   "outputs": [],
   "source": [
    "#获取记录的指标\n",
    "metrics = run.get_metrics()\n",
    "for key in metrics.keys():\n",
    "        print(key, metrics.get(key))\n",
    "print('\\n')\n",
    "for file in run.get_file_names():\n",
    "    print(file)"
   ]
  },
  {
   "cell_type": "markdown",
   "metadata": {},
   "source": [
    "同样，可以注册由试验训练的模型。"
   ]
  },
  {
   "cell_type": "code",
   "execution_count": null,
   "metadata": {},
   "outputs": [],
   "source": [
    "from azureml.core import Model\n",
    "\n",
    "#注册模型\n",
    "run.register_model(model_path='outputs/diabetes_model.pkl', model_name='diabetes_model',\n",
    "                   tags={'Training context':'SKLearn Estimator (using Datastore)'}, properties={'AUC': run.get_metrics()['AUC'], 'Accuracy': run.get_metrics()['Accuracy']})\n",
    "\n",
    "#列出已注册的模型\n",
    "print(\"Registered Models:\")\n",
    "for model in Model.list(ws):\n",
    "    print(model.name, 'version:', model.version)\n",
    "    for tag_name in model.tags:\n",
    "        tag = model.tags[tag_name]\n",
    "        print ('\\t',tag_name, ':', tag)\n",
    "    for prop_name in model.properties:\n",
    "        prop = model.properties[prop_name]\n",
    "        print ('\\t',prop_name, ':', prop)\n",
    "    print('\\n')"
   ]
  },
  {
   "cell_type": "markdown",
   "metadata": {},
   "source": [
    "在本练习中，你了解了一些用于使用*数据存储*形式的数据的选项。\n",
    "\n",
    "Azure 机器学习可对数据集形式的数据进行进一*步地*抽象，接下来我们将对此进行了解。"
   ]
  }
 ],
 "metadata": {
  "kernelspec": {
   "display_name": "Python 3.6 - AzureML",
   "language": "python",
   "name": "python3-azureml"
  },
  "language_info": {
   "codemirror_mode": {
    "name": "ipython",
    "version": 3
   },
   "file_extension": ".py",
   "mimetype": "text/x-python",
   "name": "python",
   "nbconvert_exporter": "python",
   "pygments_lexer": "ipython3",
   "version": "3.6.9"
  }
 },
 "nbformat": 4,
 "nbformat_minor": 2
}