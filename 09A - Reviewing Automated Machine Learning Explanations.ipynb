{
  "cells": [
    {
      "cell_type": "markdown",
      "metadata": {},
      "source": [
        "# 回顾自动化机器学习解释\r\n",
        "\r\n",
        "随着机器学习越来越普遍，模型做出的预测对我们社会的许多方面产生了更大的影响。例如，机器学习模型在银行如何决定发放贷款或医生如何确定治疗优先顺序方面成为了一个愈发重要的因素。解释和说明模型的功能变得越来越重要，以便可以说明和证明机器学习模型做出预测的基本原理，并且可以确定模型中任何无意的偏差。\r\n",
        "\r\n",
        "使用自动化机器学习来训练模型时，可以选择生成特征重要性的解释，以量化每个特征对标签预测的影响程度。在本实验室中，你将探索由自动化机器学习试验生成的解释。"
      ]
    },
    {
      "cell_type": "markdown",
      "metadata": {},
      "source": [
        "## 连接到工作区\r\n",
        "\r\n",
        "你首先需要使用 Azure ML SDK 连接到工作区。\r\n",
        "\r\n",
        "> **备注**：如果 Azure 订阅的身份验证会话在你完成上一练习后已过期，系统将提示你重新进行身份验证。"
      ]
    },
    {
      "cell_type": "code",
      "execution_count": null,
      "metadata": {},
      "outputs": [],
      "source": [
        "import azureml.core\n",
        "from azureml.core import Workspace\n",
        "\n",
        "# 从保存的配置文件加载工作区\r\n",
        "ws = Workspace.from_config()\n",
        "print('Ready to use Azure ML {} to work with {}'.format(azureml.core.VERSION, ws.name))"
      ]
    },
    {
      "cell_type": "markdown",
      "metadata": {},
      "source": [
        "## 准备计算目标\r\n",
        "\r\n",
        "你将使用在前面的实验室中创建的 Azure 机器学习计算群集（如果不存在，则将创建它）。\r\n",
        "\r\n",
        "> **注意事项**：在运行以下代码之前，请先在代码中将 *“你的计算群集”* 更改为你的计算群集的名称！群集名称必须是长度在 2 到 16 个字符之间的全局唯一名称。有效字符是字母、数字和 - 字符。"
      ]
    },
    {
      "cell_type": "code",
      "execution_count": null,
      "metadata": {},
      "outputs": [],
      "source": [
        "from azureml.core.compute import ComputeTarget, AmlCompute\n",
        "from azureml.core.compute_target import ComputeTargetException\n",
        "\n",
        "cluster_name = \"your-compute-cluster\"\n",
        "\n",
        "try:\n",
        "    # 检查现有的计算目标\n",
        "    training_cluster = ComputeTarget(workspace=ws, name=cluster_name)\n",
        "    print('Found existing cluster, use it.')\n",
        "except ComputeTargetException:\n",
        "    # 如果尚不存在，请创建它\n",
        "    try:\n",
        "        compute_config = AmlCompute.provisioning_configuration(vm_size='STANDARD_DS11_V2', max_nodes=2)\n",
        "        training_cluster = ComputeTarget.create(ws, cluster_name, compute_config)\n",
        "        training_cluster.wait_for_completion(show_output=True)\n",
        "    except Exception as ex:\n",
        "        print(ex)\n",
        "    "
      ]
    },
    {
      "cell_type": "markdown",
      "metadata": {},
      "source": [
        "## 运行自动化机器学习试验\r\n",
        "\r\n",
        "在本实验室中，为节省时间，你将运行自动化机器学习试验，且只有三次迭代。\r\n",
        "\r\n",
        "请注意，将 **model_explainability** 配置选项设为 **True**。"
      ]
    },
    {
      "cell_type": "code",
      "execution_count": null,
      "metadata": {},
      "outputs": [],
      "source": [
        "import pandas as pd\n",
        "from azureml.train.automl import AutoMLConfig\n",
        "from azureml.core.experiment import Experiment\n",
        "from azureml.widgets import RunDetails\n",
        "from azureml.core import Dataset\n",
        "\n",
        "try:\n",
        "    # 准备训练数据\n",
        "    default_ds = ws.get_default_datastore()\n",
        "    if 'diabetes dataset' not in ws.datasets:\n",
        "        default_ds.upload_files(files=['./data/diabetes.csv', './data/diabetes2.csv'], # 将糖尿病 csv 文件上传到 /data 中\n",
        "                            target_path='diabetes-data/', # 将其放在数据存储的文件夹路径中\n",
        "                            overwrite=True, # 替换名称相同的现有文件\n",
        "                            show_progress=True)\n",
        "\n",
        "        # 从数据存储上的路径创建表格数据集（这可能需要一些时间）\n",
        "        tab_data_set = Dataset.Tabular.from_delimited_files(path=(default_ds, 'diabetes-data/*.csv'))\n",
        "\n",
        "        # 注册表格数据集\n",
        "        try:\n",
        "            tab_data_set = tab_data_set.register(workspace=ws, \n",
        "                                    name='diabetes dataset',\n",
        "                                    description='diabetes data',\n",
        "                                    tags = {'format':'CSV'},\n",
        "                                    create_new_version=True)\n",
        "            print('Dataset registered.')\n",
        "        except Exception as ex:\n",
        "            print(ex)\n",
        "    else:\n",
        "        print('Dataset already registered.')\n",
        "    train_data = ws.datasets.get(\"diabetes dataset\")\n",
        "\n",
        "\n",
        "    # 配置自动化 ML\n",
        "    automl_config = AutoMLConfig(name='Automated ML Experiment',\n",
        "                                task='classification',\n",
        "                                compute_target=training_cluster,\n",
        "                                training_data = train_data,\n",
        "                                n_cross_validations = 2,\n",
        "                                label_column_name='Diabetic',\n",
        "                                iterations=3,\n",
        "                                primary_metric = 'AUC_weighted',\n",
        "                                max_concurrent_iterations=3,\n",
        "                                featurization='off',\n",
        "                                model_explainability=True # 生成特征重要性！\n",
        "                                )\n",
        "\n",
        "    # 运行自动化 ML 试验\n",
        "    print('Submitting Auto ML experiment...')\n",
        "    automl_experiment = Experiment(ws, 'diabetes_automl')\n",
        "    automl_run = automl_experiment.submit(automl_config)\n",
        "    automl_run.wait_for_completion(show_output=True)\n",
        "    RunDetails(automl_run).show()\n",
        "\n",
        "except Exception as ex:\n",
        "    print(ex)"
      ]
    },
    {
      "cell_type": "markdown",
      "metadata": {},
      "source": [
        "## 查看特征重要性\r\n",
        "\r\n",
        "完成试验后，在上面的小组件中，单击生成最佳结果的运行以查看其详细信息。然后滚动到可视化效果底部以查看相对特征重要性。\r\n"
      ]
    },
    {
      "cell_type": "markdown",
      "metadata": {},
      "source": [
        "## 在 Azure 机器学习工作室中查看模型解释\r\n",
        "\r\n",
        "完成试验运行后，单击小组件中的链接以在 Azure 机器学习工作室中查看运行，然后查看 **“解释”** 选项卡。然后：\r\n",
        "\n",
        "1. 选择由自动化机器学习运行创建的解释器。\n",
        "2. 查看 **“全局重要性”** 图表，其中显示整体全局特征重要性。\n",
        "3. 查看 **“摘要重要性”** 图表，其中显示分簇散点图、*小提琴* *图* 或 *盒* 须图中测试数据的每个数据点。\n",
        "4. 选择单个点以查看所选数据点的单个预测的 **“局部特征重要性”**。"
      ]
    },
    {
      "cell_type": "markdown",
      "metadata": {},
      "source": [
        "> **更多信息**：有关自动化机器学习的详细信息，请参阅 [Azure ML 文档](https://docs.microsoft.com/azure/machine-learning/how-to-machine-learning-interpretability-automl)。"
      ]
    }
  ],
  "metadata": {
    "kernelspec": {
      "display_name": "Python 3.6 - AzureML",
      "language": "python",
      "name": "python3-azureml"
    },
    "language_info": {
      "codemirror_mode": {
        "name": "ipython",
        "version": 3
      },
      "file_extension": ".py",
      "mimetype": "text/x-python",
      "name": "python",
      "nbconvert_exporter": "python",
      "pygments_lexer": "ipython3",
      "version": "3.6.9"
    }
  },
  "nbformat": 4,
  "nbformat_minor": 2
}